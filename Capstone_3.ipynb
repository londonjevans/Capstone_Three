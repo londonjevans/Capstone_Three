{
 "cells": [
  {
   "cell_type": "code",
   "execution_count": 1,
   "metadata": {},
   "outputs": [],
   "source": [
    "from datetime import date\n",
    "import pandas as pd\n",
    "import matplotlib.pyplot as plt\n",
    "import numpy as np\n",
    "import os\n",
    "os.chdir('/Users/josevans/Library/Mobile Documents/com~apple~CloudDocs/Python files')"
   ]
  },
  {
   "cell_type": "code",
   "execution_count": 2,
   "metadata": {},
   "outputs": [],
   "source": [
    "daily_tickers = ['gold.csv', 'usdnok.csv', 'eurusd.csv', 'eurgbp.csv', 'spotes.csv', 'spotnas.csv', 'spotdow.csv', 'spotruss.csv', 'spotnikk.csv', 'spotswitz.csv', 'spoteustx.csv', 'spotdax.csv', 'spotftse.csv', 'spotwti.csv', 'spotbrent.csv', 'spotcopp.csv', 'spotnatgas.csv', 'spotsugar.csv', 'spotwheat.csv', 'spotcoffee.csv', 'amd.csv', 'aapl.csv', 'abbv.csv', 'abt.csv', 'acn.csv', 'aig.csv', 'adbe.csv', 'adp.csv', 'adsk.csv', 'all.csv', 'amat.csv', 'amgn.csv', 'amzn.csv', 'asml.csv', 'atvi.csv', 'ba.csv', 'bac.csv', 'bax.csv', 'biib.csv', 'bk.csv', 'blk.csv', 'bmy.csv', 'c.csv', 'cl.csv', 'cmcsa.csv', 'cof.csv', 'cop.csv', 'cost.csv', 'csco.csv', 'cvs.csv', 'cvx.csv', 'dd.csv', 'dhr.csv', 'gd.csv', 'dis.csv', 'dow.csv', 'ea.csv', 'ebay.csv', 'expe.csv', 'f.csv', 'fb.csv', 'fdx.csv', 'fox.csv', 'fcx.csv', 'gild.csv', 'gm.csv', 'goog.csv', 'gs.csv', 'hal.csv', 'hd.csv', 'hon.csv', 'ibm.csv', 'intc.csv', 'intu.csv', 'isrg.csv', 'jnj.csv', 'jpm.csv', 'ko.csv', 'lly.csv', 'lmt.csv', 'low.csv', 'ma.csv', 'mcd.csv', 'mdlz.csv', 'mdt.csv', 'met.csv', 'mmm.csv', 'mo.csv', 'mrk.csv', 'ms.csv', 'msft.csv', 'mu.csv', 'nflx.csv', 'nke.csv', 'nsc.csv', 'nvda.csv', 'orcl.csv', 'oxy.csv', 'pep.csv', 'pfe.csv', 'pg.csv', 'pm.csv', 'pypl.csv', 'qcom.csv', 'slb.csv', 'so.csv', 'spg.csv', 'sq.csv', 't.csv', 'tgt.csv', 'tmo.csv', 'twtr.csv', 'txn.csv', 'unh.csv', 'unp.csv', 'ups.csv', 'usb.csv', 'v.csv', 'vz.csv', 'wba.csv', 'wfc.csv', 'wmt.csv', 'xom.csv', 'cat.csv', 'tsla.csv', 'intb.csv', 'adsgy.csv', 'ahln.csv', 'airl.csv', 'alvgy.csv', 'axa.csv', 'basf.csv', 'bayer.csv', 'bmw.csv', 'bnpp.csv', 'daim.csv', 'danone.csv', 'debour.csv', 'depost.csv', 'engie.csv', 'essil.csv', 'ingg.csv', 'kering.csv', 'loreal.csv', 'muruag.csv', 'nokia.csv', 'pernod.csv', 'phil.csv', 'sanofi.csv', 'sap.csv', 'schnei.csv', 'siem.csv', 'total.csv', 'viven.csv', 'astra.csv', 'hsbc.csv', 'gsk.csv', 'batt.csv', 'rio.csv', 'rekt.csv', 'bp.csv', 'rdsa.csv', 'natgrid.csv', 'bhp.csv', 'relx.csv', 'lse.csv', 'vod.csv', 'expn.csv', 'anglo.csv', 'prud.csv', 'lloy.csv', 'tsco.csv', 'ocdo.csv', 'barc.csv', 'sse.csv', 'abf.csv', 'asht.csv', 'smith.csv', 'imperial.csv', 'legal.csv', 'stan.csv', 'anto.csv', 'aviva.csv', 'rent.csv', 'bt.csv', 'iii.csv', 'intertek.csv', 'halma.csv', 'admi.csv', 'next.csv', 'croda.csv', 'pers.csv', 'wpp.csv', 'mndi.csv', 'dcc.csv', 'morr.csv', 'seve.csv', 'aglau.csv', 'asxau.csv', 'awcau.csv', 'amcau.csv', 'allau.csv', 'azjau.csv', 'anzau.csv', 'bxbau.csv', 'ajijp.csv', 'asajp.csv', 'astjp.csv', 'banjp.csv', 'daijp.csv', 'daiijp.csv', 'daicjp.csv', 'denjp.csv', 'disjp.csv', 'fujjp.csv', 'fasjp.csv', 'fujijp.csv', 'gmojp.csv', 'hoyjp.csv', 'hitjp.csv', 'itojp.csv', 'jppjp.csv']\n",
    "minute_tickers = ['minSpotEs.csv', 'BTCintraday.csv']\n",
    "hourly_tickers = ['BTChourly.csv']\n",
    "twelve_hr_tickers = ['BTC12hr.csv']"
   ]
  },
  {
   "cell_type": "code",
   "execution_count": 3,
   "metadata": {},
   "outputs": [],
   "source": [
    "def obtain_data(csv):\n",
    "# Read csv file into df  \n",
    "    df = pd.read_csv('{}'.format(csv), index_col='date', parse_dates=True)\n",
    "    df.columns = df.columns.str.lower()\n",
    "    df=df.rename({'open':'open_price','close':'close_price'},axis='columns')\n",
    "    return df"
   ]
  },
  {
   "cell_type": "code",
   "execution_count": 4,
   "metadata": {},
   "outputs": [
    {
     "data": {
      "text/html": [
       "<div>\n",
       "<style scoped>\n",
       "    .dataframe tbody tr th:only-of-type {\n",
       "        vertical-align: middle;\n",
       "    }\n",
       "\n",
       "    .dataframe tbody tr th {\n",
       "        vertical-align: top;\n",
       "    }\n",
       "\n",
       "    .dataframe thead th {\n",
       "        text-align: right;\n",
       "    }\n",
       "</style>\n",
       "<table border=\"1\" class=\"dataframe\">\n",
       "  <thead>\n",
       "    <tr style=\"text-align: right;\">\n",
       "      <th></th>\n",
       "      <th>high</th>\n",
       "      <th>open_price</th>\n",
       "      <th>tradesdone</th>\n",
       "      <th>close_price</th>\n",
       "      <th>low</th>\n",
       "      <th>volume</th>\n",
       "      <th>long_reward</th>\n",
       "      <th>short_reward</th>\n",
       "      <th>long_drawdown</th>\n",
       "      <th>short_drawdown</th>\n",
       "    </tr>\n",
       "    <tr>\n",
       "      <th>date</th>\n",
       "      <th></th>\n",
       "      <th></th>\n",
       "      <th></th>\n",
       "      <th></th>\n",
       "      <th></th>\n",
       "      <th></th>\n",
       "      <th></th>\n",
       "      <th></th>\n",
       "      <th></th>\n",
       "      <th></th>\n",
       "    </tr>\n",
       "  </thead>\n",
       "  <tbody>\n",
       "    <tr>\n",
       "      <th>2020-08-06 03:25:00+00:00</th>\n",
       "      <td>11632.857198</td>\n",
       "      <td>11628.661773</td>\n",
       "      <td>661.0</td>\n",
       "      <td>11627.304298</td>\n",
       "      <td>11622.331438</td>\n",
       "      <td>64.659103</td>\n",
       "      <td>12.877727</td>\n",
       "      <td>0.000000</td>\n",
       "      <td>0.000000</td>\n",
       "      <td>-12.877727</td>\n",
       "    </tr>\n",
       "    <tr>\n",
       "      <th>2020-08-06 03:26:00+00:00</th>\n",
       "      <td>11634.698542</td>\n",
       "      <td>11628.880651</td>\n",
       "      <td>510.0</td>\n",
       "      <td>11633.023039</td>\n",
       "      <td>11628.452068</td>\n",
       "      <td>65.223952</td>\n",
       "      <td>7.158987</td>\n",
       "      <td>0.000000</td>\n",
       "      <td>0.000000</td>\n",
       "      <td>-7.158987</td>\n",
       "    </tr>\n",
       "    <tr>\n",
       "      <th>2020-08-06 03:27:00+00:00</th>\n",
       "      <td>11643.130954</td>\n",
       "      <td>11633.849983</td>\n",
       "      <td>660.0</td>\n",
       "      <td>11636.906148</td>\n",
       "      <td>11633.845233</td>\n",
       "      <td>42.325653</td>\n",
       "      <td>4.279305</td>\n",
       "      <td>0.233260</td>\n",
       "      <td>-0.233260</td>\n",
       "      <td>-4.279305</td>\n",
       "    </tr>\n",
       "    <tr>\n",
       "      <th>2020-08-06 03:28:00+00:00</th>\n",
       "      <td>11640.358176</td>\n",
       "      <td>11634.990781</td>\n",
       "      <td>511.0</td>\n",
       "      <td>11637.230756</td>\n",
       "      <td>11634.909007</td>\n",
       "      <td>25.039172</td>\n",
       "      <td>3.954697</td>\n",
       "      <td>3.393088</td>\n",
       "      <td>-3.393088</td>\n",
       "      <td>-3.954697</td>\n",
       "    </tr>\n",
       "    <tr>\n",
       "      <th>2020-08-06 03:29:00+00:00</th>\n",
       "      <td>11639.253297</td>\n",
       "      <td>11635.244462</td>\n",
       "      <td>511.0</td>\n",
       "      <td>11636.846520</td>\n",
       "      <td>11633.373031</td>\n",
       "      <td>29.803953</td>\n",
       "      <td>4.338932</td>\n",
       "      <td>3.008852</td>\n",
       "      <td>-3.008852</td>\n",
       "      <td>-4.338932</td>\n",
       "    </tr>\n",
       "    <tr>\n",
       "      <th>...</th>\n",
       "      <td>...</td>\n",
       "      <td>...</td>\n",
       "      <td>...</td>\n",
       "      <td>...</td>\n",
       "      <td>...</td>\n",
       "      <td>...</td>\n",
       "      <td>...</td>\n",
       "      <td>...</td>\n",
       "      <td>...</td>\n",
       "      <td>...</td>\n",
       "    </tr>\n",
       "    <tr>\n",
       "      <th>2020-11-18 10:58:00+00:00</th>\n",
       "      <td>18234.619157</td>\n",
       "      <td>18208.853076</td>\n",
       "      <td>893.0</td>\n",
       "      <td>18231.188657</td>\n",
       "      <td>18208.159663</td>\n",
       "      <td>66.174542</td>\n",
       "      <td>18.938798</td>\n",
       "      <td>39.064476</td>\n",
       "      <td>-39.064476</td>\n",
       "      <td>-18.938798</td>\n",
       "    </tr>\n",
       "    <tr>\n",
       "      <th>2020-11-18 10:59:00+00:00</th>\n",
       "      <td>18256.364286</td>\n",
       "      <td>18230.236993</td>\n",
       "      <td>1293.0</td>\n",
       "      <td>18250.127455</td>\n",
       "      <td>18228.936068</td>\n",
       "      <td>80.224731</td>\n",
       "      <td>0.000000</td>\n",
       "      <td>58.003274</td>\n",
       "      <td>-58.003274</td>\n",
       "      <td>0.000000</td>\n",
       "    </tr>\n",
       "    <tr>\n",
       "      <th>2020-11-18 11:00:00+00:00</th>\n",
       "      <td>18252.684206</td>\n",
       "      <td>18249.926458</td>\n",
       "      <td>1463.0</td>\n",
       "      <td>18204.938033</td>\n",
       "      <td>18204.299628</td>\n",
       "      <td>113.123828</td>\n",
       "      <td>0.000000</td>\n",
       "      <td>12.813852</td>\n",
       "      <td>-12.813852</td>\n",
       "      <td>0.000000</td>\n",
       "    </tr>\n",
       "    <tr>\n",
       "      <th>2020-11-18 11:01:00+00:00</th>\n",
       "      <td>18213.002649</td>\n",
       "      <td>18206.168146</td>\n",
       "      <td>1736.0</td>\n",
       "      <td>18192.124181</td>\n",
       "      <td>18174.511037</td>\n",
       "      <td>129.803211</td>\n",
       "      <td>4.686199</td>\n",
       "      <td>0.000000</td>\n",
       "      <td>0.000000</td>\n",
       "      <td>-4.686199</td>\n",
       "    </tr>\n",
       "    <tr>\n",
       "      <th>2020-11-18 11:02:00+00:00</th>\n",
       "      <td>18199.096018</td>\n",
       "      <td>18193.134630</td>\n",
       "      <td>903.0</td>\n",
       "      <td>18196.810380</td>\n",
       "      <td>18182.164705</td>\n",
       "      <td>71.884189</td>\n",
       "      <td>0.000000</td>\n",
       "      <td>0.000000</td>\n",
       "      <td>0.000000</td>\n",
       "      <td>0.000000</td>\n",
       "    </tr>\n",
       "  </tbody>\n",
       "</table>\n",
       "<p>142501 rows × 10 columns</p>\n",
       "</div>"
      ],
      "text/plain": [
       "                                   high    open_price  tradesdone  \\\n",
       "date                                                                \n",
       "2020-08-06 03:25:00+00:00  11632.857198  11628.661773       661.0   \n",
       "2020-08-06 03:26:00+00:00  11634.698542  11628.880651       510.0   \n",
       "2020-08-06 03:27:00+00:00  11643.130954  11633.849983       660.0   \n",
       "2020-08-06 03:28:00+00:00  11640.358176  11634.990781       511.0   \n",
       "2020-08-06 03:29:00+00:00  11639.253297  11635.244462       511.0   \n",
       "...                                 ...           ...         ...   \n",
       "2020-11-18 10:58:00+00:00  18234.619157  18208.853076       893.0   \n",
       "2020-11-18 10:59:00+00:00  18256.364286  18230.236993      1293.0   \n",
       "2020-11-18 11:00:00+00:00  18252.684206  18249.926458      1463.0   \n",
       "2020-11-18 11:01:00+00:00  18213.002649  18206.168146      1736.0   \n",
       "2020-11-18 11:02:00+00:00  18199.096018  18193.134630       903.0   \n",
       "\n",
       "                            close_price           low      volume  \\\n",
       "date                                                                \n",
       "2020-08-06 03:25:00+00:00  11627.304298  11622.331438   64.659103   \n",
       "2020-08-06 03:26:00+00:00  11633.023039  11628.452068   65.223952   \n",
       "2020-08-06 03:27:00+00:00  11636.906148  11633.845233   42.325653   \n",
       "2020-08-06 03:28:00+00:00  11637.230756  11634.909007   25.039172   \n",
       "2020-08-06 03:29:00+00:00  11636.846520  11633.373031   29.803953   \n",
       "...                                 ...           ...         ...   \n",
       "2020-11-18 10:58:00+00:00  18231.188657  18208.159663   66.174542   \n",
       "2020-11-18 10:59:00+00:00  18250.127455  18228.936068   80.224731   \n",
       "2020-11-18 11:00:00+00:00  18204.938033  18204.299628  113.123828   \n",
       "2020-11-18 11:01:00+00:00  18192.124181  18174.511037  129.803211   \n",
       "2020-11-18 11:02:00+00:00  18196.810380  18182.164705   71.884189   \n",
       "\n",
       "                           long_reward  short_reward  long_drawdown  \\\n",
       "date                                                                  \n",
       "2020-08-06 03:25:00+00:00    12.877727      0.000000       0.000000   \n",
       "2020-08-06 03:26:00+00:00     7.158987      0.000000       0.000000   \n",
       "2020-08-06 03:27:00+00:00     4.279305      0.233260      -0.233260   \n",
       "2020-08-06 03:28:00+00:00     3.954697      3.393088      -3.393088   \n",
       "2020-08-06 03:29:00+00:00     4.338932      3.008852      -3.008852   \n",
       "...                                ...           ...            ...   \n",
       "2020-11-18 10:58:00+00:00    18.938798     39.064476     -39.064476   \n",
       "2020-11-18 10:59:00+00:00     0.000000     58.003274     -58.003274   \n",
       "2020-11-18 11:00:00+00:00     0.000000     12.813852     -12.813852   \n",
       "2020-11-18 11:01:00+00:00     4.686199      0.000000       0.000000   \n",
       "2020-11-18 11:02:00+00:00     0.000000      0.000000       0.000000   \n",
       "\n",
       "                           short_drawdown  \n",
       "date                                       \n",
       "2020-08-06 03:25:00+00:00      -12.877727  \n",
       "2020-08-06 03:26:00+00:00       -7.158987  \n",
       "2020-08-06 03:27:00+00:00       -4.279305  \n",
       "2020-08-06 03:28:00+00:00       -3.954697  \n",
       "2020-08-06 03:29:00+00:00       -4.338932  \n",
       "...                                   ...  \n",
       "2020-11-18 10:58:00+00:00      -18.938798  \n",
       "2020-11-18 10:59:00+00:00        0.000000  \n",
       "2020-11-18 11:00:00+00:00        0.000000  \n",
       "2020-11-18 11:01:00+00:00       -4.686199  \n",
       "2020-11-18 11:02:00+00:00        0.000000  \n",
       "\n",
       "[142501 rows x 10 columns]"
      ]
     },
     "execution_count": 4,
     "metadata": {},
     "output_type": "execute_result"
    }
   ],
   "source": [
    "obtain_data('BTCintraday.csv')"
   ]
  },
  {
   "cell_type": "code",
   "execution_count": 5,
   "metadata": {},
   "outputs": [],
   "source": [
    "\"\"\"This cell defines the plot_candles function\"\"\"\n",
    "\n",
    "def plot_candles(pricing, title=None, volume_bars=False, color_function=None, technicals=None, alpha=None):\n",
    "    \"\"\" Plots a candlestick chart using pricing data.\n",
    "    \n",
    "    Args:\n",
    "      pricing: A pandas dataframe with columns ['open_price', 'close_price', 'high', 'low', 'volume']\n",
    "      title: An optional title for the chart\n",
    "      volume_bars: If True, plots volume bars\n",
    "      color_function: A function which, given a row index and price series, returns a candle color.\n",
    "      technicals: A list of additional data series to add to the chart.  Must be the same length as pricing.\n",
    "    \"\"\"\n",
    "    def default_color(index, open_price, close_price, low, high):\n",
    "        return 'r' if open_price[index] > close_price[index] else 'g'\n",
    "    color_function = color_function or default_color\n",
    "    technicals = technicals or []\n",
    "    open_price = pricing['open_price']\n",
    "    close_price = pricing['close_price']\n",
    "    low = pricing['low']\n",
    "    high = pricing['high']\n",
    "    oc_min = pd.concat([open_price, close_price], axis=1).min(axis=1)\n",
    "    oc_max = pd.concat([open_price, close_price], axis=1).max(axis=1)\n",
    "    \n",
    "    if volume_bars:\n",
    "        fig, (ax1, ax2) = plt.subplots(2, 1, sharex=True, gridspec_kw={'height_ratios': [3,1]},figsize=(7,7))\n",
    "    else:\n",
    "        fig, ax1 = plt.subplots(1, 1)\n",
    "    if title:\n",
    "        ax1.set_title(title)\n",
    "    fig.tight_layout()\n",
    "    x = np.arange(len(pricing))\n",
    "    candle_colors = [color_function(i, open_price, close_price, low, high) for i in x]\n",
    "    candles = ax1.bar(x, oc_max-oc_min, bottom=oc_min, color=candle_colors, linewidth=0)\n",
    "    lines = ax1.vlines(x , low, high, color=candle_colors, linewidth=1)\n",
    "    ax1.xaxis.grid(True)\n",
    "    ax1.yaxis.grid(True)\n",
    "    ax1.xaxis.set_tick_params(which='major', length=3.0, direction='in', top='off')\n",
    "    ax1.set_yticklabels([])\n",
    "    # Assume minute frequency if first two bars are in the same day.\n",
    "    frequency = 'minute' if (pricing.index[1] - pricing.index[0]).days == 0 else 'day'\n",
    "    time_format = '%d-%m-%Y'\n",
    "    if frequency == 'minute':\n",
    "        time_format = '%H:%M'\n",
    "    # Set X axis tick labels.\n",
    "    #plt.xticks(x, [date.strftime(time_format) for date in pricing.index], rotation='vertical')\n",
    "    for indicator in technicals:\n",
    "        ax1.plot(x, indicator)\n",
    "    \n",
    "    if volume_bars:\n",
    "        volume = pricing['volume']\n",
    "        volume_scale = None\n",
    "        scaled_volume = volume\n",
    "        if volume.max() > 1000000:\n",
    "            volume_scale = 'M'\n",
    "            scaled_volume = volume / 1000000\n",
    "        elif volume.max() > 1000:\n",
    "            volume_scale = 'K'\n",
    "            scaled_volume = volume / 1000\n",
    "        ax2.bar(x, scaled_volume, color=candle_colors)\n",
    "        volume_title = 'Volume'\n",
    "        if volume_scale:\n",
    "            volume_title = 'Volume (%s)' % volume_scale\n",
    "        #ax2.set_title(volume_title)\n",
    "        ax2.xaxis.grid(True)\n",
    "        ax2.set_yticklabels([])\n",
    "        ax2.set_xticklabels([])\n",
    "    return fig    "
   ]
  },
  {
   "cell_type": "code",
   "execution_count": 6,
   "metadata": {},
   "outputs": [],
   "source": [
    "def calc_rsi(df, period):\n",
    "        # What Is the Relative Strength Index (RSI)?\n",
    "        # The relative strength index (RSI) is a momentum indicator used in technical analysis that measures the magnitude of recent price changes to evaluate overbought or oversold conditions in the price of a stock or other asset. The RSI is displayed as an oscillator (a line graph that moves between two extremes) and can have a reading from 0 to 100.\n",
    "        # https://www.investopedia.com/terms/r/rsi.asp\n",
    "        delta = df.close_price.diff()\n",
    "        window = period\n",
    "        up_days = delta.copy()\n",
    "        up_days[delta<=0]=0.0\n",
    "        down_days = abs(delta.copy())\n",
    "        down_days[delta>0]=0.0\n",
    "        RS_up = up_days.rolling(window).mean()\n",
    "        RS_down = down_days.rolling(window).mean()\n",
    "        rsi= 100-100/(1+RS_up/RS_down)\n",
    "    \n",
    "        df['RSI'] = rsi"
   ]
  },
  {
   "cell_type": "code",
   "execution_count": 8,
   "metadata": {},
   "outputs": [
    {
     "data": {
      "image/png": "[encoded data removed]",
      "text/plain": [
       "<Figure size 504x504 with 2 Axes>"
      ]
     },
     "execution_count": 8,
     "metadata": {},
     "output_type": "execute_result"
    },
    {
     "data": {
      "image/png": "[encoded data removed]",
      "text/plain": [
       "<Figure size 504x504 with 2 Axes>"
      ]
     },
     "metadata": {
      "needs_background": "light"
     },
     "output_type": "display_data"
    }
   ],
   "source": [
    "df = obtain_data('BTCintraday.csv')\n",
    "calc_rsi(df, 14)\n",
    "df = df.dropna()\n",
    "rsi = df.RSI\n",
    "df = df.drop('RSI', axis=1)\n",
    "plot_candles(df.iloc[:100], volume_bars=True)"
   ]
  },
  {
   "cell_type": "code",
   "execution_count": null,
   "metadata": {},
   "outputs": [],
   "source": [
    "def daily_ticker_candles(ticker, fraction=0.037):\n",
    "        df_pricing=obtain_data(ticker)\n",
    "        df=df_pricing.copy()\n",
    "        df=df.reset_index(drop=True)\n",
    "        n_days=5\n",
    "        fraction_movement=fraction\n",
    "        df['Trend']=None\n",
    "        symbol=ticker[:-4]\n",
    "        print(symbol)\n",
    "        for i in range(len(df)):\n",
    "            try :\n",
    "                for n in range(n_days): \n",
    "                    if  df.loc[i,'close_price'] - df.loc[i+n,'close_price'] >= fraction_movement*df.loc[i,'close_price']:\n",
    "                        df.loc[i,'Trend'] ='Down'\n",
    "                        if i >=20 :\n",
    "                            fig=plot_candles(df_pricing[i-20:i])\n",
    "                            fig.savefig('/Users/josevans/Library/Mobile Documents/com~apple~CloudDocs/Python files/Candlesticks/Candle Data/Down/{}{}fraction{}.png'.format(symbol,i, fraction),dpi=70)\n",
    "                        print('Down',i,n)\n",
    "                        break\n",
    "                    elif df.loc[i+n,'close_price'] - df.loc[i,'close_price'] >= fraction_movement*df.loc[i,'close_price'] :\n",
    "                        df.loc[i,'Trend']='Up'\n",
    "                        if i >20 :    \n",
    "                            fig=plot_candles(df_pricing[i-20:i])\n",
    "                            fig.savefig('/Users/josevans/Library/Mobile Documents/com~apple~CloudDocs/Python files/Candlesticks/Candle Data/Up/{}{}fraction{}.png'.format(symbol,i, fraction),dpi=70)\n",
    "                        print('Up',i,n)\n",
    "                        break\n",
    "                    else :\n",
    "                        df.loc[i,'Trend']= 'No Trend'\n",
    "            except :\n",
    "                print(i)\n",
    "                pass\n",
    "for ticker in daily_tickers:\n",
    "    daily_ticker_candles(ticker)"
   ]
  },
  {
   "cell_type": "code",
   "execution_count": null,
   "metadata": {},
   "outputs": [],
   "source": [
    "for ticker in minute_tickers:\n",
    "        df_pricing=obtain_data(ticker)\n",
    "        df=df_pricing.copy()\n",
    "        df=df.reset_index(drop=True)\n",
    "        n_days=5\n",
    "        fraction_movement=0.01\n",
    "        df['Trend']=None\n",
    "        symbol=ticker[:-4]\n",
    "        for i in range(len(df)):\n",
    "            try :\n",
    "                for n in range(n_days): \n",
    "                    if  df.loc[i,'close_price'] - df.loc[i+n,'close_price'] >= fraction_movement*df.loc[i,'close_price']:\n",
    "                        df.loc[i,'Trend'] ='Down'\n",
    "                        if i >=20 :\n",
    "                            fig=plot_candles(df_pricing[i-20:i],volume_bars=True)\n",
    "                            fig.savefig('/Users/josevans/Library/Mobile Documents/com~apple~CloudDocs/Python files/Candlesticks/Candle Data/Down/{}{}fraction{}.png'.format(symbol,i, fraction_movement),dpi=70)\n",
    "                        print('Down',i,n)\n",
    "                        break\n",
    "                    elif df.loc[i+n,'close_price'] - df.loc[i,'close_price'] >= fraction_movement*df.loc[i,'close_price'] :\n",
    "                        df.loc[i,'Trend']='Up'\n",
    "                        if i >20 :    \n",
    "                            fig=plot_candles(df_pricing[i-20:i],volume_bars=True)\n",
    "                            fig.savefig('/Users/josevans/Library/Mobile Documents/com~apple~CloudDocs/Python files/Candlesticks/Candle Data/Up/{}{}fraction{}.png'.format(symbol,i, fraction_movement),dpi=70)\n",
    "                        print('Up',i,n)\n",
    "                        break\n",
    "                    else :\n",
    "                        df.loc[i,'Trend']= 'No Trend'\n",
    "            except Exception as exc:\n",
    "                print(i, exc)\n",
    "                pass"
   ]
  },
  {
   "cell_type": "code",
   "execution_count": 2,
   "metadata": {},
   "outputs": [],
   "source": [
    "%reload_ext autoreload\n",
    "%autoreload 2\n",
    "%matplotlib inline"
   ]
  },
  {
   "cell_type": "code",
   "execution_count": 3,
   "metadata": {},
   "outputs": [],
   "source": [
    "from fastai.vision import *\n",
    "from fastai.metrics import error_rate"
   ]
  },
  {
   "cell_type": "code",
   "execution_count": 4,
   "metadata": {},
   "outputs": [],
   "source": [
    "bs = 64\n",
    "# bs = 16   # uncomment this line if you run out of memory even after clicking Kernel->Restart"
   ]
  },
  {
   "cell_type": "code",
   "execution_count": 5,
   "metadata": {},
   "outputs": [],
   "source": [
    "path=Path('/Users/josevans/Library/Mobile Documents/com~apple~CloudDocs/Python files/Candlesticks/Candle Data')\n",
    "path_save=Path('/Users/josevans/Library/Mobile Documents/com~apple~CloudDocs/Python files/Candlesticks/Processed')"
   ]
  },
  {
   "cell_type": "code",
   "execution_count": 6,
   "metadata": {},
   "outputs": [
    {
     "data": {
      "text/plain": [
       "[PosixPath('/Users/josevans/Library/Mobile Documents/com~apple~CloudDocs/Python files/Candlesticks/Candle Data/.DS_Store'),\n",
       " PosixPath('/Users/josevans/Library/Mobile Documents/com~apple~CloudDocs/Python files/Candlesticks/Candle Data/Up'),\n",
       " PosixPath('/Users/josevans/Library/Mobile Documents/com~apple~CloudDocs/Python files/Candlesticks/Candle Data/Down')]"
      ]
     },
     "execution_count": 6,
     "metadata": {},
     "output_type": "execute_result"
    }
   ],
   "source": [
    "path.ls()"
   ]
  },
  {
   "cell_type": "code",
   "execution_count": 7,
   "metadata": {},
   "outputs": [],
   "source": [
    "np.random.seed(42)\n",
    "data = ImageDataBunch.from_folder(path, train=\".\", valid_pct=0.2,\n",
    "        ds_tfms=get_transforms(flip_vert=False, max_lighting=0.1, max_zoom=1.05, max_warp=0.,max_rotate=3), size=224, num_workers=4).normalize(imagenet_stats)"
   ]
  },
  {
   "cell_type": "code",
   "execution_count": 8,
   "metadata": {},
   "outputs": [
    {
     "data": {
      "text/plain": [
       "['Down', 'Up']"
      ]
     },
     "execution_count": 8,
     "metadata": {},
     "output_type": "execute_result"
    }
   ],
   "source": [
    "data.classes"
   ]
  },
  {
   "cell_type": "markdown",
   "metadata": {},
   "source": [
    "<h1> Training the Model </h1>"
   ]
  },
  {
   "cell_type": "code",
   "execution_count": 9,
   "metadata": {},
   "outputs": [],
   "source": [
    "learn = cnn_learner(data, models.resnet34, metrics=error_rate)"
   ]
  },
  {
   "cell_type": "code",
   "execution_count": 10,
   "metadata": {},
   "outputs": [
    {
     "data": {
      "text/html": [
       "<table border=\"1\" class=\"dataframe\">\n",
       "  <thead>\n",
       "    <tr style=\"text-align: left;\">\n",
       "      <th>epoch</th>\n",
       "      <th>train_loss</th>\n",
       "      <th>valid_loss</th>\n",
       "      <th>error_rate</th>\n",
       "      <th>time</th>\n",
       "    </tr>\n",
       "  </thead>\n",
       "  <tbody>\n",
       "    <tr>\n",
       "      <td>0</td>\n",
       "      <td>0.779355</td>\n",
       "      <td>0.715309</td>\n",
       "      <td>0.487784</td>\n",
       "      <td>1:26:26</td>\n",
       "    </tr>\n",
       "    <tr>\n",
       "      <td>1</td>\n",
       "      <td>0.737916</td>\n",
       "      <td>0.704411</td>\n",
       "      <td>0.470506</td>\n",
       "      <td>1:27:37</td>\n",
       "    </tr>\n",
       "    <tr>\n",
       "      <td>2</td>\n",
       "      <td>0.709068</td>\n",
       "      <td>0.692949</td>\n",
       "      <td>0.463874</td>\n",
       "      <td>1:25:02</td>\n",
       "    </tr>\n",
       "    <tr>\n",
       "      <td>3</td>\n",
       "      <td>0.693514</td>\n",
       "      <td>0.685808</td>\n",
       "      <td>0.449913</td>\n",
       "      <td>1:23:30</td>\n",
       "    </tr>\n",
       "  </tbody>\n",
       "</table>"
      ],
      "text/plain": [
       "<IPython.core.display.HTML object>"
      ]
     },
     "metadata": {},
     "output_type": "display_data"
    }
   ],
   "source": [
    "learn.fit_one_cycle(4)"
   ]
  },
  {
   "cell_type": "code",
   "execution_count": 11,
   "metadata": {},
   "outputs": [],
   "source": [
    "learn.unfreeze()"
   ]
  },
  {
   "cell_type": "code",
   "execution_count": 12,
   "metadata": {},
   "outputs": [
    {
     "data": {
      "text/html": [
       "\n",
       "    <div>\n",
       "        <style>\n",
       "            /* Turns off some styling */\n",
       "            progress {\n",
       "                /* gets rid of default border in Firefox and Opera. */\n",
       "                border: none;\n",
       "                /* Needs to be in here for Safari polyfill so background images work as expected. */\n",
       "                background-size: auto;\n",
       "            }\n",
       "            .progress-bar-interrupted, .progress-bar-interrupted::-webkit-progress-bar {\n",
       "                background: #F44336;\n",
       "            }\n",
       "        </style>\n",
       "      <progress value='0' class='' max='1' style='width:300px; height:20px; vertical-align: middle;'></progress>\n",
       "      0.00% [0/1 00:00<00:00]\n",
       "    </div>\n",
       "    \n",
       "<table border=\"1\" class=\"dataframe\">\n",
       "  <thead>\n",
       "    <tr style=\"text-align: left;\">\n",
       "      <th>epoch</th>\n",
       "      <th>train_loss</th>\n",
       "      <th>valid_loss</th>\n",
       "      <th>error_rate</th>\n",
       "      <th>time</th>\n",
       "    </tr>\n",
       "  </thead>\n",
       "  <tbody>\n",
       "  </tbody>\n",
       "</table><p>\n",
       "\n",
       "    <div>\n",
       "        <style>\n",
       "            /* Turns off some styling */\n",
       "            progress {\n",
       "                /* gets rid of default border in Firefox and Opera. */\n",
       "                border: none;\n",
       "                /* Needs to be in here for Safari polyfill so background images work as expected. */\n",
       "                background-size: auto;\n",
       "            }\n",
       "            .progress-bar-interrupted, .progress-bar-interrupted::-webkit-progress-bar {\n",
       "                background: #F44336;\n",
       "            }\n",
       "        </style>\n",
       "      <progress value='88' class='' max='358' style='width:300px; height:20px; vertical-align: middle;'></progress>\n",
       "      24.58% [88/358 28:13<1:26:37 2.1931]\n",
       "    </div>\n",
       "    "
      ],
      "text/plain": [
       "<IPython.core.display.HTML object>"
      ]
     },
     "metadata": {},
     "output_type": "display_data"
    },
    {
     "name": "stdout",
     "output_type": "stream",
     "text": [
      "LR Finder is complete, type {learner_name}.recorder.plot() to see the graph.\n"
     ]
    }
   ],
   "source": [
    "learn.lr_find()"
   ]
  },
  {
   "cell_type": "code",
   "execution_count": 13,
   "metadata": {},
   "outputs": [
    {
     "data": {
      "image/png": "[encoded data removed]",
      "text/plain": [
       "<Figure size 432x288 with 1 Axes>"
      ]
     },
     "metadata": {
      "needs_background": "light"
     },
     "output_type": "display_data"
    }
   ],
   "source": [
    "learn.recorder.plot()"
   ]
  },
  {
   "cell_type": "code",
   "execution_count": 14,
   "metadata": {},
   "outputs": [
    {
     "data": {
      "text/html": [
       "<table border=\"1\" class=\"dataframe\">\n",
       "  <thead>\n",
       "    <tr style=\"text-align: left;\">\n",
       "      <th>epoch</th>\n",
       "      <th>train_loss</th>\n",
       "      <th>valid_loss</th>\n",
       "      <th>error_rate</th>\n",
       "      <th>time</th>\n",
       "    </tr>\n",
       "  </thead>\n",
       "  <tbody>\n",
       "    <tr>\n",
       "      <td>0</td>\n",
       "      <td>0.690259</td>\n",
       "      <td>0.684450</td>\n",
       "      <td>0.441710</td>\n",
       "      <td>2:01:58</td>\n",
       "    </tr>\n",
       "    <tr>\n",
       "      <td>1</td>\n",
       "      <td>0.688212</td>\n",
       "      <td>0.683493</td>\n",
       "      <td>0.436126</td>\n",
       "      <td>2:04:04</td>\n",
       "    </tr>\n",
       "    <tr>\n",
       "      <td>2</td>\n",
       "      <td>0.682631</td>\n",
       "      <td>0.680360</td>\n",
       "      <td>0.428796</td>\n",
       "      <td>2:11:37</td>\n",
       "    </tr>\n",
       "    <tr>\n",
       "      <td>3</td>\n",
       "      <td>0.676463</td>\n",
       "      <td>0.673770</td>\n",
       "      <td>0.421466</td>\n",
       "      <td>2:01:12</td>\n",
       "    </tr>\n",
       "    <tr>\n",
       "      <td>4</td>\n",
       "      <td>0.676073</td>\n",
       "      <td>0.671252</td>\n",
       "      <td>0.419023</td>\n",
       "      <td>1:57:05</td>\n",
       "    </tr>\n",
       "    <tr>\n",
       "      <td>5</td>\n",
       "      <td>0.669926</td>\n",
       "      <td>0.668137</td>\n",
       "      <td>0.409599</td>\n",
       "      <td>1:56:52</td>\n",
       "    </tr>\n",
       "    <tr>\n",
       "      <td>6</td>\n",
       "      <td>0.663874</td>\n",
       "      <td>0.664913</td>\n",
       "      <td>0.407853</td>\n",
       "      <td>1:56:48</td>\n",
       "    </tr>\n",
       "    <tr>\n",
       "      <td>7</td>\n",
       "      <td>0.654566</td>\n",
       "      <td>0.662026</td>\n",
       "      <td>0.405061</td>\n",
       "      <td>1:56:49</td>\n",
       "    </tr>\n",
       "    <tr>\n",
       "      <td>8</td>\n",
       "      <td>0.654182</td>\n",
       "      <td>0.661908</td>\n",
       "      <td>0.403839</td>\n",
       "      <td>1:56:42</td>\n",
       "    </tr>\n",
       "    <tr>\n",
       "      <td>9</td>\n",
       "      <td>0.653022</td>\n",
       "      <td>0.661652</td>\n",
       "      <td>0.402443</td>\n",
       "      <td>1:56:41</td>\n",
       "    </tr>\n",
       "  </tbody>\n",
       "</table>"
      ],
      "text/plain": [
       "<IPython.core.display.HTML object>"
      ]
     },
     "metadata": {},
     "output_type": "display_data"
    }
   ],
   "source": [
    "learn.fit_one_cycle(10, max_lr=slice(1e-6,1e-4))"
   ]
  },
  {
   "cell_type": "code",
   "execution_count": 15,
   "metadata": {},
   "outputs": [
    {
     "data": {
      "text/html": [
       "\n",
       "    <div>\n",
       "        <style>\n",
       "            /* Turns off some styling */\n",
       "            progress {\n",
       "                /* gets rid of default border in Firefox and Opera. */\n",
       "                border: none;\n",
       "                /* Needs to be in here for Safari polyfill so background images work as expected. */\n",
       "                background-size: auto;\n",
       "            }\n",
       "            .progress-bar-interrupted, .progress-bar-interrupted::-webkit-progress-bar {\n",
       "                background: #F44336;\n",
       "            }\n",
       "        </style>\n",
       "      <progress value='0' class='' max='1' style='width:300px; height:20px; vertical-align: middle;'></progress>\n",
       "      0.00% [0/1 00:00<00:00]\n",
       "    </div>\n",
       "    \n",
       "<table border=\"1\" class=\"dataframe\">\n",
       "  <thead>\n",
       "    <tr style=\"text-align: left;\">\n",
       "      <th>epoch</th>\n",
       "      <th>train_loss</th>\n",
       "      <th>valid_loss</th>\n",
       "      <th>error_rate</th>\n",
       "      <th>time</th>\n",
       "    </tr>\n",
       "  </thead>\n",
       "  <tbody>\n",
       "  </tbody>\n",
       "</table><p>\n",
       "\n",
       "    <div>\n",
       "        <style>\n",
       "            /* Turns off some styling */\n",
       "            progress {\n",
       "                /* gets rid of default border in Firefox and Opera. */\n",
       "                border: none;\n",
       "                /* Needs to be in here for Safari polyfill so background images work as expected. */\n",
       "                background-size: auto;\n",
       "            }\n",
       "            .progress-bar-interrupted, .progress-bar-interrupted::-webkit-progress-bar {\n",
       "                background: #F44336;\n",
       "            }\n",
       "        </style>\n",
       "      <progress value='89' class='' max='358' style='width:300px; height:20px; vertical-align: middle;'></progress>\n",
       "      24.86% [89/358 28:12<1:25:14 2.3833]\n",
       "    </div>\n",
       "    "
      ],
      "text/plain": [
       "<IPython.core.display.HTML object>"
      ]
     },
     "metadata": {},
     "output_type": "display_data"
    },
    {
     "name": "stdout",
     "output_type": "stream",
     "text": [
      "LR Finder is complete, type {learner_name}.recorder.plot() to see the graph.\n"
     ]
    }
   ],
   "source": [
    "learn.lr_find()"
   ]
  },
  {
   "cell_type": "code",
   "execution_count": 16,
   "metadata": {},
   "outputs": [
    {
     "data": {
      "image/png": "[encoded data removed]",
      "text/plain": [
       "<Figure size 432x288 with 1 Axes>"
      ]
     },
     "metadata": {
      "needs_background": "light"
     },
     "output_type": "display_data"
    }
   ],
   "source": [
    "learn.recorder.plot()"
   ]
  },
  {
   "cell_type": "code",
   "execution_count": 17,
   "metadata": {},
   "outputs": [
    {
     "data": {
      "text/html": [
       "<table border=\"1\" class=\"dataframe\">\n",
       "  <thead>\n",
       "    <tr style=\"text-align: left;\">\n",
       "      <th>epoch</th>\n",
       "      <th>train_loss</th>\n",
       "      <th>valid_loss</th>\n",
       "      <th>error_rate</th>\n",
       "      <th>time</th>\n",
       "    </tr>\n",
       "  </thead>\n",
       "  <tbody>\n",
       "    <tr>\n",
       "      <td>0</td>\n",
       "      <td>0.650562</td>\n",
       "      <td>0.661347</td>\n",
       "      <td>0.401222</td>\n",
       "      <td>2:02:28</td>\n",
       "    </tr>\n",
       "    <tr>\n",
       "      <td>1</td>\n",
       "      <td>0.647483</td>\n",
       "      <td>0.659634</td>\n",
       "      <td>0.395637</td>\n",
       "      <td>2:08:14</td>\n",
       "    </tr>\n",
       "    <tr>\n",
       "      <td>2</td>\n",
       "      <td>0.646018</td>\n",
       "      <td>0.651815</td>\n",
       "      <td>0.387260</td>\n",
       "      <td>2:02:12</td>\n",
       "    </tr>\n",
       "    <tr>\n",
       "      <td>3</td>\n",
       "      <td>0.640877</td>\n",
       "      <td>0.649858</td>\n",
       "      <td>0.385166</td>\n",
       "      <td>1:57:39</td>\n",
       "    </tr>\n",
       "    <tr>\n",
       "      <td>4</td>\n",
       "      <td>0.626086</td>\n",
       "      <td>0.649033</td>\n",
       "      <td>0.382897</td>\n",
       "      <td>1:56:52</td>\n",
       "    </tr>\n",
       "  </tbody>\n",
       "</table>"
      ],
      "text/plain": [
       "<IPython.core.display.HTML object>"
      ]
     },
     "metadata": {},
     "output_type": "display_data"
    }
   ],
   "source": [
    "learn.fit_one_cycle(5, max_lr=slice(1e-6,1e-4))"
   ]
  },
  {
   "cell_type": "code",
   "execution_count": 18,
   "metadata": {},
   "outputs": [
    {
     "data": {
      "text/html": [
       "\n",
       "    <div>\n",
       "        <style>\n",
       "            /* Turns off some styling */\n",
       "            progress {\n",
       "                /* gets rid of default border in Firefox and Opera. */\n",
       "                border: none;\n",
       "                /* Needs to be in here for Safari polyfill so background images work as expected. */\n",
       "                background-size: auto;\n",
       "            }\n",
       "            .progress-bar-interrupted, .progress-bar-interrupted::-webkit-progress-bar {\n",
       "                background: #F44336;\n",
       "            }\n",
       "        </style>\n",
       "      <progress value='0' class='' max='1' style='width:300px; height:20px; vertical-align: middle;'></progress>\n",
       "      0.00% [0/1 00:00<00:00]\n",
       "    </div>\n",
       "    \n",
       "<table border=\"1\" class=\"dataframe\">\n",
       "  <thead>\n",
       "    <tr style=\"text-align: left;\">\n",
       "      <th>epoch</th>\n",
       "      <th>train_loss</th>\n",
       "      <th>valid_loss</th>\n",
       "      <th>error_rate</th>\n",
       "      <th>time</th>\n",
       "    </tr>\n",
       "  </thead>\n",
       "  <tbody>\n",
       "  </tbody>\n",
       "</table><p>\n",
       "\n",
       "    <div>\n",
       "        <style>\n",
       "            /* Turns off some styling */\n",
       "            progress {\n",
       "                /* gets rid of default border in Firefox and Opera. */\n",
       "                border: none;\n",
       "                /* Needs to be in here for Safari polyfill so background images work as expected. */\n",
       "                background-size: auto;\n",
       "            }\n",
       "            .progress-bar-interrupted, .progress-bar-interrupted::-webkit-progress-bar {\n",
       "                background: #F44336;\n",
       "            }\n",
       "        </style>\n",
       "      <progress value='90' class='' max='358' style='width:300px; height:20px; vertical-align: middle;'></progress>\n",
       "      25.14% [90/358 27:41<1:22:27 2.2640]\n",
       "    </div>\n",
       "    "
      ],
      "text/plain": [
       "<IPython.core.display.HTML object>"
      ]
     },
     "metadata": {},
     "output_type": "display_data"
    },
    {
     "name": "stdout",
     "output_type": "stream",
     "text": [
      "LR Finder is complete, type {learner_name}.recorder.plot() to see the graph.\n"
     ]
    }
   ],
   "source": [
    "learn.lr_find()"
   ]
  },
  {
   "cell_type": "code",
   "execution_count": 22,
   "metadata": {},
   "outputs": [
    {
     "data": {
      "image/png": "[encoded data removed]",
      "text/plain": [
       "<Figure size 432x288 with 1 Axes>"
      ]
     },
     "metadata": {
      "needs_background": "light"
     },
     "output_type": "display_data"
    }
   ],
   "source": [
    "learn.recorder.plot()"
   ]
  },
  {
   "cell_type": "code",
   "execution_count": 20,
   "metadata": {},
   "outputs": [
    {
     "data": {
      "text/html": [
       "<table border=\"1\" class=\"dataframe\">\n",
       "  <thead>\n",
       "    <tr style=\"text-align: left;\">\n",
       "      <th>epoch</th>\n",
       "      <th>train_loss</th>\n",
       "      <th>valid_loss</th>\n",
       "      <th>error_rate</th>\n",
       "      <th>time</th>\n",
       "    </tr>\n",
       "  </thead>\n",
       "  <tbody>\n",
       "    <tr>\n",
       "      <td>0</td>\n",
       "      <td>0.641014</td>\n",
       "      <td>0.651999</td>\n",
       "      <td>0.378883</td>\n",
       "      <td>1:56:44</td>\n",
       "    </tr>\n",
       "    <tr>\n",
       "      <td>1</td>\n",
       "      <td>0.645648</td>\n",
       "      <td>0.649621</td>\n",
       "      <td>0.377138</td>\n",
       "      <td>1:56:58</td>\n",
       "    </tr>\n",
       "    <tr>\n",
       "      <td>2</td>\n",
       "      <td>0.619587</td>\n",
       "      <td>0.636427</td>\n",
       "      <td>0.364747</td>\n",
       "      <td>1:56:41</td>\n",
       "    </tr>\n",
       "    <tr>\n",
       "      <td>3</td>\n",
       "      <td>0.576340</td>\n",
       "      <td>0.626704</td>\n",
       "      <td>0.346771</td>\n",
       "      <td>1:56:43</td>\n",
       "    </tr>\n",
       "    <tr>\n",
       "      <td>4</td>\n",
       "      <td>0.547987</td>\n",
       "      <td>0.622280</td>\n",
       "      <td>0.342757</td>\n",
       "      <td>1:56:50</td>\n",
       "    </tr>\n",
       "  </tbody>\n",
       "</table>"
      ],
      "text/plain": [
       "<IPython.core.display.HTML object>"
      ]
     },
     "metadata": {},
     "output_type": "display_data"
    }
   ],
   "source": [
    "learn.fit_one_cycle(5,max_lr=slice(1e-5,1e-4))"
   ]
  },
  {
   "cell_type": "code",
   "execution_count": 21,
   "metadata": {},
   "outputs": [],
   "source": [
    "learn.save('First Model')"
   ]
  },
  {
   "cell_type": "code",
   "execution_count": 23,
   "metadata": {},
   "outputs": [],
   "source": [
    "data = ImageDataBunch.from_folder(path, train=\".\", valid_pct=0.2,\n",
    "        ds_tfms=get_transforms(flip_vert=False, max_lighting=0.1, max_zoom=1.05, max_warp=0.,max_rotate=3), size=352, num_workers=4).normalize(imagenet_stats)"
   ]
  },
  {
   "cell_type": "code",
   "execution_count": 24,
   "metadata": {},
   "outputs": [],
   "source": [
    "learn.data=data"
   ]
  },
  {
   "cell_type": "code",
   "execution_count": 26,
   "metadata": {},
   "outputs": [
    {
     "data": {
      "text/html": [
       "\n",
       "    <div>\n",
       "        <style>\n",
       "            /* Turns off some styling */\n",
       "            progress {\n",
       "                /* gets rid of default border in Firefox and Opera. */\n",
       "                border: none;\n",
       "                /* Needs to be in here for Safari polyfill so background images work as expected. */\n",
       "                background-size: auto;\n",
       "            }\n",
       "            .progress-bar-interrupted, .progress-bar-interrupted::-webkit-progress-bar {\n",
       "                background: #F44336;\n",
       "            }\n",
       "        </style>\n",
       "      <progress value='0' class='' max='1' style='width:300px; height:20px; vertical-align: middle;'></progress>\n",
       "      0.00% [0/1 00:00<00:00]\n",
       "    </div>\n",
       "    \n",
       "<table border=\"1\" class=\"dataframe\">\n",
       "  <thead>\n",
       "    <tr style=\"text-align: left;\">\n",
       "      <th>epoch</th>\n",
       "      <th>train_loss</th>\n",
       "      <th>valid_loss</th>\n",
       "      <th>error_rate</th>\n",
       "      <th>time</th>\n",
       "    </tr>\n",
       "  </thead>\n",
       "  <tbody>\n",
       "  </tbody>\n",
       "</table><p>\n",
       "\n",
       "    <div>\n",
       "        <style>\n",
       "            /* Turns off some styling */\n",
       "            progress {\n",
       "                /* gets rid of default border in Firefox and Opera. */\n",
       "                border: none;\n",
       "                /* Needs to be in here for Safari polyfill so background images work as expected. */\n",
       "                background-size: auto;\n",
       "            }\n",
       "            .progress-bar-interrupted, .progress-bar-interrupted::-webkit-progress-bar {\n",
       "                background: #F44336;\n",
       "            }\n",
       "        </style>\n",
       "      <progress value='89' class='' max='358' style='width:300px; height:20px; vertical-align: middle;'></progress>\n",
       "      24.86% [89/358 1:11:25<3:35:52 2.1107]\n",
       "    </div>\n",
       "    "
      ],
      "text/plain": [
       "<IPython.core.display.HTML object>"
      ]
     },
     "metadata": {},
     "output_type": "display_data"
    },
    {
     "name": "stdout",
     "output_type": "stream",
     "text": [
      "LR Finder is complete, type {learner_name}.recorder.plot() to see the graph.\n"
     ]
    }
   ],
   "source": [
    "gc.collect()\n",
    "learn.lr_find()"
   ]
  },
  {
   "cell_type": "code",
   "execution_count": 27,
   "metadata": {},
   "outputs": [
    {
     "data": {
      "image/png": "[encoded data removed]",
      "text/plain": [
       "<Figure size 432x288 with 1 Axes>"
      ]
     },
     "metadata": {
      "needs_background": "light"
     },
     "output_type": "display_data"
    }
   ],
   "source": [
    "learn.recorder.plot()"
   ]
  },
  {
   "cell_type": "code",
   "execution_count": 28,
   "metadata": {},
   "outputs": [
    {
     "data": {
      "text/html": [
       "<table border=\"1\" class=\"dataframe\">\n",
       "  <thead>\n",
       "    <tr style=\"text-align: left;\">\n",
       "      <th>epoch</th>\n",
       "      <th>train_loss</th>\n",
       "      <th>valid_loss</th>\n",
       "      <th>error_rate</th>\n",
       "      <th>time</th>\n",
       "    </tr>\n",
       "  </thead>\n",
       "  <tbody>\n",
       "    <tr>\n",
       "      <td>0</td>\n",
       "      <td>0.664013</td>\n",
       "      <td>0.644417</td>\n",
       "      <td>0.373298</td>\n",
       "      <td>5:10:03</td>\n",
       "    </tr>\n",
       "    <tr>\n",
       "      <td>1</td>\n",
       "      <td>0.650277</td>\n",
       "      <td>0.638426</td>\n",
       "      <td>0.365620</td>\n",
       "      <td>4:55:09</td>\n",
       "    </tr>\n",
       "    <tr>\n",
       "      <td>2</td>\n",
       "      <td>0.614759</td>\n",
       "      <td>0.623392</td>\n",
       "      <td>0.350087</td>\n",
       "      <td>4:45:12</td>\n",
       "    </tr>\n",
       "    <tr>\n",
       "      <td>3</td>\n",
       "      <td>0.572348</td>\n",
       "      <td>0.608137</td>\n",
       "      <td>0.330017</td>\n",
       "      <td>4:42:11</td>\n",
       "    </tr>\n",
       "    <tr>\n",
       "      <td>4</td>\n",
       "      <td>0.554554</td>\n",
       "      <td>0.603681</td>\n",
       "      <td>0.322688</td>\n",
       "      <td>4:42:45</td>\n",
       "    </tr>\n",
       "  </tbody>\n",
       "</table>"
      ],
      "text/plain": [
       "<IPython.core.display.HTML object>"
      ]
     },
     "metadata": {},
     "output_type": "display_data"
    }
   ],
   "source": [
    "learn.fit_one_cycle(5,max_lr=slice(1e-5,1e-4))"
   ]
  },
  {
   "cell_type": "code",
   "execution_count": 29,
   "metadata": {},
   "outputs": [
    {
     "data": {
      "text/html": [
       "\n",
       "    <div>\n",
       "        <style>\n",
       "            /* Turns off some styling */\n",
       "            progress {\n",
       "                /* gets rid of default border in Firefox and Opera. */\n",
       "                border: none;\n",
       "                /* Needs to be in here for Safari polyfill so background images work as expected. */\n",
       "                background-size: auto;\n",
       "            }\n",
       "            .progress-bar-interrupted, .progress-bar-interrupted::-webkit-progress-bar {\n",
       "                background: #F44336;\n",
       "            }\n",
       "        </style>\n",
       "      <progress value='0' class='' max='1' style='width:300px; height:20px; vertical-align: middle;'></progress>\n",
       "      0.00% [0/1 00:00<00:00]\n",
       "    </div>\n",
       "    \n",
       "<table border=\"1\" class=\"dataframe\">\n",
       "  <thead>\n",
       "    <tr style=\"text-align: left;\">\n",
       "      <th>epoch</th>\n",
       "      <th>train_loss</th>\n",
       "      <th>valid_loss</th>\n",
       "      <th>error_rate</th>\n",
       "      <th>time</th>\n",
       "    </tr>\n",
       "  </thead>\n",
       "  <tbody>\n",
       "  </tbody>\n",
       "</table><p>\n",
       "\n",
       "    <div>\n",
       "        <style>\n",
       "            /* Turns off some styling */\n",
       "            progress {\n",
       "                /* gets rid of default border in Firefox and Opera. */\n",
       "                border: none;\n",
       "                /* Needs to be in here for Safari polyfill so background images work as expected. */\n",
       "                background-size: auto;\n",
       "            }\n",
       "            .progress-bar-interrupted, .progress-bar-interrupted::-webkit-progress-bar {\n",
       "                background: #F44336;\n",
       "            }\n",
       "        </style>\n",
       "      <progress value='88' class='' max='358' style='width:300px; height:20px; vertical-align: middle;'></progress>\n",
       "      24.58% [88/358 1:10:53<3:37:31 1.7253]\n",
       "    </div>\n",
       "    "
      ],
      "text/plain": [
       "<IPython.core.display.HTML object>"
      ]
     },
     "metadata": {},
     "output_type": "display_data"
    },
    {
     "name": "stdout",
     "output_type": "stream",
     "text": [
      "LR Finder is complete, type {learner_name}.recorder.plot() to see the graph.\n"
     ]
    }
   ],
   "source": [
    "learn.lr_find()"
   ]
  },
  {
   "cell_type": "code",
   "execution_count": 30,
   "metadata": {},
   "outputs": [
    {
     "data": {
      "image/png": "[encoded data removed]",
      "text/plain": [
       "<Figure size 432x288 with 1 Axes>"
      ]
     },
     "metadata": {
      "needs_background": "light"
     },
     "output_type": "display_data"
    }
   ],
   "source": [
    "learn.recorder.plot()"
   ]
  },
  {
   "cell_type": "code",
   "execution_count": 31,
   "metadata": {
    "scrolled": false
   },
   "outputs": [
    {
     "data": {
      "text/html": [
       "<table border=\"1\" class=\"dataframe\">\n",
       "  <thead>\n",
       "    <tr style=\"text-align: left;\">\n",
       "      <th>epoch</th>\n",
       "      <th>train_loss</th>\n",
       "      <th>valid_loss</th>\n",
       "      <th>error_rate</th>\n",
       "      <th>time</th>\n",
       "    </tr>\n",
       "  </thead>\n",
       "  <tbody>\n",
       "    <tr>\n",
       "      <td>0</td>\n",
       "      <td>0.546471</td>\n",
       "      <td>0.607613</td>\n",
       "      <td>0.325480</td>\n",
       "      <td>4:49:54</td>\n",
       "    </tr>\n",
       "    <tr>\n",
       "      <td>1</td>\n",
       "      <td>0.544967</td>\n",
       "      <td>0.601937</td>\n",
       "      <td>0.320244</td>\n",
       "      <td>4:45:24</td>\n",
       "    </tr>\n",
       "    <tr>\n",
       "      <td>2</td>\n",
       "      <td>0.531639</td>\n",
       "      <td>0.602111</td>\n",
       "      <td>0.320419</td>\n",
       "      <td>4:40:23</td>\n",
       "    </tr>\n",
       "    <tr>\n",
       "      <td>3</td>\n",
       "      <td>0.521480</td>\n",
       "      <td>0.599843</td>\n",
       "      <td>0.316405</td>\n",
       "      <td>4:40:24</td>\n",
       "    </tr>\n",
       "    <tr>\n",
       "      <td>4</td>\n",
       "      <td>0.532581</td>\n",
       "      <td>0.603534</td>\n",
       "      <td>0.318848</td>\n",
       "      <td>4:41:33</td>\n",
       "    </tr>\n",
       "  </tbody>\n",
       "</table>"
      ],
      "text/plain": [
       "<IPython.core.display.HTML object>"
      ]
     },
     "metadata": {},
     "output_type": "display_data"
    }
   ],
   "source": [
    "learn.fit_one_cycle(5,max_lr=slice(1e-6,1e-5))"
   ]
  },
  {
   "cell_type": "code",
   "execution_count": 32,
   "metadata": {},
   "outputs": [],
   "source": [
    "learn.save('Model 2')"
   ]
  },
  {
   "cell_type": "code",
   "execution_count": 33,
   "metadata": {},
   "outputs": [],
   "source": [
    "correcti=0\n",
    "list_down=[]\n",
    "list_up=[]\n",
    "for i in range(len(data.valid_ds)):\n",
    "    prediction=learn.predict(data.valid_ds[i][0])\n",
    "    if str(data.valid_ds[i][1])==\"Down\" and bool(prediction[1]==0) :\n",
    "        correcti=correcti+1\n",
    "        if prediction[2][0] >= 0.75 :\n",
    "            list_down=list_down + [i]\n",
    "            #print(prediction)\n",
    "            #print()\n",
    "    if str(data.valid_ds[i][1])==\"Up\" and bool(prediction[1]==1) :\n",
    "        correcti=correcti+1\n",
    "        if prediction[2][1] >= 0.75 :\n",
    "            list_up=list_up + [i]\n",
    "            #print(prediction)\n",
    "            #print()\n",
    "        "
   ]
  },
  {
   "cell_type": "code",
   "execution_count": 34,
   "metadata": {
    "scrolled": false
   },
   "outputs": [
    {
     "data": {
      "text/plain": [
       "(994, 1079)"
      ]
     },
     "execution_count": 34,
     "metadata": {},
     "output_type": "execute_result"
    }
   ],
   "source": [
    "len(list_down),len(list_up)"
   ]
  }
 ],
 "metadata": {
  "kernelspec": {
   "display_name": "Python 3",
   "language": "python",
   "name": "python3"
  },
  "language_info": {
   "codemirror_mode": {
    "name": "ipython",
    "version": 3
   },
   "file_extension": ".py",
   "mimetype": "text/x-python",
   "name": "python",
   "nbconvert_exporter": "python",
   "pygments_lexer": "ipython3",
   "version": "3.7.7"
  }
 },
 "nbformat": 4,
 "nbformat_minor": 4
}
